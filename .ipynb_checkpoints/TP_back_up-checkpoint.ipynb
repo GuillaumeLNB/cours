{
 "cells": [
  {
   "cell_type": "markdown",
   "metadata": {},
   "source": [
    "# <center>TP</center>\n",
    "\n",
    "Les documents/donnees lies aux TPs se trouvent sur le site de [Guillaume Gravier](http://people.irisa.fr/Guillaume.Gravier/teaching/ENSAI/)\n",
    "\n",
    "\n",
    "---------\n",
    "## Cheatsheet\n",
    "#### Pour installer un module via un notebook:\n",
    "\n",
    "`!pip install --upgrade nom_du_module`\n",
    "\n",
    "#### Pour telecharger les modeles de spacy:\n",
    "\n",
    "`!python -m spacy download  fr_core_news_sm` ou  `!python -m spacy download en_core_web_sm`\n",
    "\n",
    "<small>Note : si le modele ne peut pas se charger apres l'avoir telecharger: relancer le kernel (Menu $\\rightarrow$ Kernel $\\rightarrow$ Restart)</small>"
   ]
  },
  {
   "cell_type": "markdown",
   "metadata": {},
   "source": [
    "<center><h2><b>test spacy<b></h2></center>"
   ]
  },
  {
   "cell_type": "code",
   "execution_count": null,
   "metadata": {},
   "outputs": [],
   "source": [
    "!python -m spacy download en_core_web_sm"
   ]
  },
  {
   "cell_type": "code",
   "execution_count": null,
   "metadata": {},
   "outputs": [],
   "source": [
    "import spacy\n",
    "nlp = spacy.load('en_core_web_sm')\n",
    "doc = nlp(\"I love to learn about natural language processing. Grace Hopper woulda loved it too...\")\n",
    "for ent in doc.ents:\n",
    "    print(ent)"
   ]
  },
  {
   "cell_type": "code",
   "execution_count": null,
   "metadata": {},
   "outputs": [],
   "source": []
  },
  {
   "cell_type": "code",
   "execution_count": null,
   "metadata": {},
   "outputs": [],
   "source": []
  }
 ],
 "metadata": {
  "kernelspec": {
   "display_name": "Python 3",
   "language": "python",
   "name": "python3"
  },
  "language_info": {
   "codemirror_mode": {
    "name": "ipython",
    "version": 3
   },
   "file_extension": ".py",
   "mimetype": "text/x-python",
   "name": "python",
   "nbconvert_exporter": "python",
   "pygments_lexer": "ipython3",
   "version": "3.9.1"
  }
 },
 "nbformat": 4,
 "nbformat_minor": 4
}
