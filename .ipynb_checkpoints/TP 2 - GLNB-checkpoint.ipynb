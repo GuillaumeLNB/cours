{
 "cells": [
  {
   "cell_type": "markdown",
   "metadata": {},
   "source": [
    "# <center>TP 2</center>\n",
    "\n",
    "Les TPs se trouvent sur le site de [Guig](http://people.irisa.fr/Guillaume.Gravier/teaching/ENSAI/)\n",
    "\n",
    "\n",
    "---------\n",
    "## Cheatsheet\n",
    "#### Pour installer un module via un notebook:\n",
    "\n",
    "`!pip install --upgrade -q nom_du_module`\n",
    "\n",
    "#### Pour telecharger les modeles de spacy:\n",
    "\n",
    "`!python -m spacy download en_core_web_sm`"
   ]
  },
  {
   "cell_type": "markdown",
   "metadata": {},
   "source": [
    "<center><h2><b>download data<b></h2></center>"
   ]
  },
  {
   "cell_type": "code",
   "execution_count": null,
   "metadata": {},
   "outputs": [],
   "source": [
    "import requests\n",
    "import json\n",
    "from bs4 import BeautifulSoup\n",
    "\n",
    "root_url = \"http://people.irisa.fr/Guillaume.Gravier/teaching/ENSAI/data/\"\n",
    "r = requests.get(root_url)\n",
    "soup = BeautifulSoup(r.text, 'html.parser')\n",
    "\n",
    "files = [link.text for link in soup.find_all('a', href=True) if '.' in link.text]\n",
    "print(f\"{len(files)} files to download\")\n",
    "\n",
    "for file in files:\n",
    "    data = requests.get(root_url + file)\n",
    "    print(f\"downloading {file}\")\n",
    "    print(data.text, file=open(file, 'w'))"
   ]
  },
  {
   "cell_type": "markdown",
   "metadata": {},
   "source": [
    "<center><h2><b>test spacy<b></h2></center>"
   ]
  },
  {
   "cell_type": "code",
   "execution_count": null,
   "metadata": {},
   "outputs": [],
   "source": [
    "import spacy\n",
    "nlp = spacy.load('en_core_web_sm')\n",
    "doc = nlp(\"I love to learn about natural language processing. Grace Hopper woulda loved it\")\n",
    "for ent in doc.ents:\n",
    "    print(ent)"
   ]
  },
  {
   "cell_type": "markdown",
   "metadata": {},
   "source": [
    "## SentiwordNet\n",
    "https://github.com/aesuli/sentiwordnet\n"
   ]
  },
  {
   "cell_type": "code",
   "execution_count": null,
   "metadata": {},
   "outputs": [],
   "source": []
  },
  {
   "cell_type": "code",
   "execution_count": null,
   "metadata": {},
   "outputs": [],
   "source": []
  }
 ],
 "metadata": {
  "kernelspec": {
   "display_name": "Python 3",
   "language": "python",
   "name": "python3"
  },
  "language_info": {
   "codemirror_mode": {
    "name": "ipython",
    "version": 3
   },
   "file_extension": ".py",
   "mimetype": "text/x-python",
   "name": "python",
   "nbconvert_exporter": "python",
   "pygments_lexer": "ipython3",
   "version": "3.6.9"
  }
 },
 "nbformat": 4,
 "nbformat_minor": 4
}
