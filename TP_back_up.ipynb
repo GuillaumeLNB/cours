{
 "cells": [
  {
   "cell_type": "markdown",
   "metadata": {},
   "source": [
    "# <center>TP</center>\n",
    "\n",
    "Les documents/donnees lies aux TPs se trouvent sur le site de [Guillaume Gravier](http://people.irisa.fr/Guillaume.Gravier/teaching/ENSAI/)\n",
    "\n",
    "\n",
    "---------\n",
    "## Cheatsheet\n",
    "#### Pour installer un module via un notebook:\n",
    "\n",
    "`!pip install --upgrade nom_du_module`\n",
    "\n",
    "#### Pour telecharger les modeles de spacy:\n",
    "\n",
    "`!python -m spacy download  fr_core_news_sm` ou  `!python -m spacy download en_core_web_sm`\n",
    "\n",
    "<small>Note : si le modele ne peut pas se charger apres l'avoir telecharger: relancer le kernel (Menu $\\rightarrow$ Kernel $\\rightarrow$ Restart)</small>"
   ]
  },
  {
   "cell_type": "markdown",
   "metadata": {},
   "source": [
    "<center><h2><b>test spacy<b></h2></center>"
   ]
  },
  {
   "cell_type": "code",
   "execution_count": 2,
   "metadata": {},
   "outputs": [
    {
     "name": "stdout",
     "output_type": "stream",
     "text": [
      "\u001b[38;5;3m⚠ Skipping model package dependencies and setting `--no-deps`. You\n",
      "don't seem to have the spaCy package itself installed (maybe because you've\n",
      "built from source?), so installing the model dependencies would cause spaCy to\n",
      "be downloaded, which probably isn't what you want. If the model package has\n",
      "other dependencies, you'll have to install them manually.\u001b[0m\n",
      "Defaulting to user installation because normal site-packages is not writeable\n",
      "Collecting en_core_web_sm==2.3.0\n",
      "  Downloading https://github.com/explosion/spacy-models/releases/download/en_core_web_sm-2.3.0/en_core_web_sm-2.3.0.tar.gz (12.0 MB)\n",
      "\u001b[K     |████████████████████████████████| 12.0 MB 7.9 MB/s eta 0:00:01\n",
      "\u001b[?25hUsing legacy 'setup.py install' for en-core-web-sm, since package 'wheel' is not installed.\n",
      "Installing collected packages: en-core-web-sm\n",
      "    Running setup.py install for en-core-web-sm ... \u001b[?25ldone\n",
      "\u001b[?25hSuccessfully installed en-core-web-sm-2.3.0\n",
      "\u001b[33mWARNING: You are using pip version 20.2.3; however, version 20.3.3 is available.\n",
      "You should consider upgrading via the '/usr/bin/python3 -m pip install --upgrade pip' command.\u001b[0m\n",
      "\u001b[38;5;2m✔ Download and installation successful\u001b[0m\n",
      "You can now load the model via spacy.load('en_core_web_sm')\n"
     ]
    }
   ],
   "source": [
    "!python3 -m spacy download en_core_web_sm"
   ]
  },
  {
   "cell_type": "code",
   "execution_count": 3,
   "metadata": {},
   "outputs": [
    {
     "name": "stdout",
     "output_type": "stream",
     "text": [
      "Grace Hopper\n",
      "woulda\n",
      "Microsoft\n"
     ]
    }
   ],
   "source": [
    "import spacy\n",
    "nlp = spacy.load('en_core_web_sm')\n",
    "doc = nlp(\"I love to learn about natural language processing. Grace Hopper woulda loved it too... Microsoft sucks\")\n",
    "for ent in doc.ents:\n",
    "    print(ent)"
   ]
  },
  {
   "cell_type": "code",
   "execution_count": null,
   "metadata": {},
   "outputs": [],
   "source": []
  },
  {
   "cell_type": "code",
   "execution_count": null,
   "metadata": {},
   "outputs": [],
   "source": []
  }
 ],
 "metadata": {
  "kernelspec": {
   "display_name": "Python 3.6.9 64-bit",
   "language": "python",
   "name": "python36964bite8a2cc5b5b2e4baf9a5e22b2647a00eb"
  },
  "language_info": {
   "codemirror_mode": {
    "name": "ipython",
    "version": 3
   },
   "file_extension": ".py",
   "mimetype": "text/x-python",
   "name": "python",
   "nbconvert_exporter": "python",
   "pygments_lexer": "ipython3",
   "version": "3.6.9"
  }
 },
 "nbformat": 4,
 "nbformat_minor": 4
}
