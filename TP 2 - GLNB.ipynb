{
 "cells": [
  {
   "cell_type": "code",
   "execution_count": null,
   "metadata": {},
   "outputs": [],
   "source": [
    "# download data\n",
    "import requests\n",
    "import json\n",
    "from bs4 import BeautifulSoup\n",
    "\n",
    "root_url = \"http://people.irisa.fr/Guillaume.Gravier/teaching/ENSAI/data/\"\n",
    "r=requests.get(root_url)\n",
    "soup=BeautifulSoup(r.text, 'html.parser')\n",
    "\n",
    "files=[link.text for link in soup.find_all('a', href=True) if '.' in link.text]\n",
    "print(f\"{len(files)} files to download\")\n",
    "\n",
    "for file in files:\n",
    "    data=requests.get(root_url + file)\n",
    "    print(f\"downloading {file}\")\n",
    "    print(data.text, file=open(file, 'w'))"
   ]
  },
  {
   "cell_type": "code",
   "execution_count": null,
   "metadata": {},
   "outputs": [],
   "source": [
    "import spacy"
   ]
  },
  {
   "cell_type": "code",
   "execution_count": null,
   "metadata": {},
   "outputs": [],
   "source": [
    "!python -m spacy download en_core_web_sm"
   ]
  },
  {
   "cell_type": "code",
   "execution_count": null,
   "metadata": {},
   "outputs": [],
   "source": [
    "# test\n",
    "nlp = spacy.load('en_core_web_sm')\n",
    "doc = nlp(\"I love to learn about natural language processing. Grace Hopper woulda loved it\")\n",
    "for ent in doc.ents:\n",
    "    print(ent)"
   ]
  },
  {
   "cell_type": "markdown",
   "metadata": {},
   "source": [
    "## SentiwordNet\n",
    "https://github.com/aesuli/sentiwordnet\n"
   ]
  },
  {
   "cell_type": "code",
   "execution_count": null,
   "metadata": {},
   "outputs": [],
   "source": [
    "! head -n 50 data/SentiWordNet_3.0.0.txt"
   ]
  },
  {
   "cell_type": "code",
   "execution_count": null,
   "metadata": {},
   "outputs": [],
   "source": []
  }
 ],
 "metadata": {
  "kernelspec": {
   "display_name": "Python 3",
   "language": "python",
   "name": "python3"
  },
  "language_info": {
   "codemirror_mode": {
    "name": "ipython",
    "version": 3
   },
   "file_extension": ".py",
   "mimetype": "text/x-python",
   "name": "python",
   "nbconvert_exporter": "python",
   "pygments_lexer": "ipython3",
   "version": "3.6.9"
  }
 },
 "nbformat": 4,
 "nbformat_minor": 4
}
