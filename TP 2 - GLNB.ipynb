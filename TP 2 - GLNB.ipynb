{
 "cells": [
  {
   "cell_type": "markdown",
   "metadata": {},
   "source": [
    "## SentiwordNet\n",
    "https://github.com/aesuli/sentiwordnet\n"
   ]
  },
  {
   "cell_type": "code",
   "execution_count": 2,
   "metadata": {},
   "outputs": [
    {
     "name": "stdout",
     "output_type": "stream",
     "text": [
      "# SentiWordNet v3.0.0 (1 June 2010)\r\n",
      "# Andrea Esuli\r\n",
      "#\r\n",
      "# SentiWordNet is distributed under the Attribution-ShareAlike 4.0 Unported (CC BY-SA 4.0) license.\r\n",
      "# http://creativecommons.org/licenses/by-sa/4.0/\r\n",
      "#\r\n",
      "# For any information about SentiWordNet:\r\n",
      "# Web: http://sentiwordnet.isti.cnr.it\r\n",
      "# -------\r\n",
      "#\r\n",
      "# Data format.\r\n",
      "#\r\n",
      "# SentiWordNet v3.0 is based on WordNet version 3.0.\r\n",
      "# WordNet website: http://wordnet.princeton.edu/\r\n",
      "#\r\n",
      "# The pair (POS,ID) uniquely identifies a WordNet (3.0) synset.\r\n",
      "# The values PosScore and NegScore are the positivity and negativity\r\n",
      "# score assigned by SentiWordNet to the synset.\r\n",
      "# The objectivity score can be calculated as:\r\n",
      "# ObjScore = 1 - (PosScore + NegScore)\r\n",
      "# SynsetTerms column reports the terms, with sense number, belonging\r\n",
      "# to the synset (separated by spaces).\r\n",
      "#\r\n",
      "# -------\r\n",
      "#\r\n",
      "# POS\tID\tPosScore\tNegScore\tSynsetTerms\tGloss\r\n",
      "a\t00001740\t0.125\t0\table#1\t(usually followed by `to') having the necessary means or skill or know-how or authority to do something; \"able to swim\"; \"she was able to program her computer\"; \"we were at last able to buy a car\"; \"able to get a grant for the project\"\r\n",
      "a\t00002098\t0\t0.75\tunable#1\t(usually followed by `to') not having the necessary means or skill or know-how; \"unable to get to town without a car\"; \"unable to obtain funds\"\r\n",
      "a\t00002312\t0\t0\tdorsal#2 abaxial#1\tfacing away from the axis of an organ or organism; \"the abaxial surface of a leaf is the underside or side facing away from the stem\"\r\n",
      "a\t00002527\t0\t0\tventral#2 adaxial#1\tnearest to or facing toward the axis of an organ or organism; \"the upper side of a leaf is known as the adaxial surface\"\r\n",
      "a\t00002730\t0\t0\tacroscopic#1\tfacing or on the side toward the apex\r\n",
      "a\t00002843\t0\t0\tbasiscopic#1\tfacing or on the side toward the base\r\n",
      "a\t00002956\t0\t0\tabducting#1 abducent#1\tespecially of muscles; drawing away from the midline of the body or from an adjacent part\r\n",
      "a\t00003131\t0\t0\tadductive#1 adducting#1 adducent#1\tespecially of muscles; bringing together or drawing toward the midline of the body or toward an adjacent part\r\n",
      "a\t00003356\t0\t0\tnascent#1\tbeing born or beginning; \"the nascent chicks\"; \"a nascent insurgency\"\r\n",
      "a\t00003553\t0\t0\temerging#2 emergent#2\tcoming into existence; \"an emergent republic\"\r\n",
      "a\t00003700\t0.25\t0\tdissilient#1\tbursting open with force, as do some ripe seed vessels\r\n",
      "a\t00003829\t0.25\t0\tparturient#2\tgiving birth; \"a parturient heifer\"\r\n",
      "a\t00003939\t0\t0\tdying#1\tin or associated with the process of passing from life or ceasing to be; \"a dying man\"; \"his dying wish\"; \"a dying fire\"; \"a dying civilization\"\r\n",
      "a\t00004171\t0\t0\tmoribund#2\tbeing on the point of death; breathing your last; \"a moribund patient\"\r\n",
      "a\t00004296\t0\t0\tlast#5\toccurring at the time of death; \"his last words\"; \"the last rites\"\r\n",
      "a\t00004413\t0\t0\tabridged#1\t(used of texts) shortened by condensing or rewriting; \"an abridged version\"\r\n",
      "a\t00004615\t0\t0\tshortened#4 cut#3\twith parts removed; \"the drastically cut film\"\r\n",
      "a\t00004723\t0\t0\thalf-length#2\tabridged to half its original length\r\n",
      "a\t00004817\t0\t0\tpotted#3\t(British informal) summarized or abridged; \"a potted version of a novel\"\r\n",
      "a\t00004980\t0\t0\tunabridged#1\t(used of texts) not shortened; \"an unabridged novel\"\r\n",
      "a\t00005107\t0.5\t0\tuncut#7 full-length#2\tcomplete; \"the full-length play\"\r\n",
      "a\t00005205\t0.5\t0\tabsolute#1\tperfect or complete or pure; \"absolute loyalty\"; \"absolute silence\"; \"absolute truth\"; \"absolute alcohol\"\r\n",
      "a\t00005473\t0.75\t0\tdirect#10\tlacking compromising or mitigating elements; exact; \"the direct opposite\"\r\n",
      "a\t00005599\t0.5\t0.5\tunquestioning#2 implicit#2\tbeing without doubt or reserve; \"implicit trust\"\r\n"
     ]
    }
   ],
   "source": [
    "! head -n 50 data/SentiWordNet_3.0.0.txt"
   ]
  },
  {
   "cell_type": "code",
   "execution_count": null,
   "metadata": {},
   "outputs": [],
   "source": []
  }
 ],
 "metadata": {
  "kernelspec": {
   "display_name": "Python 3",
   "language": "python",
   "name": "python3"
  },
  "language_info": {
   "codemirror_mode": {
    "name": "ipython",
    "version": 3
   },
   "file_extension": ".py",
   "mimetype": "text/x-python",
   "name": "python",
   "nbconvert_exporter": "python",
   "pygments_lexer": "ipython3",
   "version": "3.6.9"
  }
 },
 "nbformat": 4,
 "nbformat_minor": 4
}
